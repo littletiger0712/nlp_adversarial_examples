{
 "cells": [
  {
   "cell_type": "code",
   "execution_count": 12,
   "metadata": {},
   "outputs": [],
   "source": [
    "from keras.preprocessing.text import Tokenizer\n",
    "text1 = ['我','爱', '北京', '天安门', '我', '爱', '中国']\n",
    "text2 = ['我' ,'爱' ,'塞北' ,'的' ,'雪']\n",
    "text3 = ['我', '爱','北京','天安门']\n",
    "tokenizer = Tokenizer()\n",
    "tokenizer.fit_on_texts(text1)\n",
    "train_seqs = tokenizer.texts_to_sequences(text2)"
   ]
  },
  {
   "cell_type": "code",
   "execution_count": 13,
   "metadata": {},
   "outputs": [
    {
     "name": "stdout",
     "output_type": "stream",
     "text": [
      "[[1], [2], [], [], []]\n",
      "[[1], [2], [3], [4]]\n"
     ]
    }
   ],
   "source": [
    "print(train_seqs)\n",
    "train_seqs2 = tokenizer.texts_to_sequences(text3)\n",
    "print(train_seqs2)"
   ]
  },
  {
   "cell_type": "code",
   "execution_count": 9,
   "metadata": {},
   "outputs": [
    {
     "name": "stdout",
     "output_type": "stream",
     "text": [
      "OrderedDict([('我', 2), ('爱', 2), ('北京', 1), ('天安门', 1), ('中国', 1)])\n",
      "{'我': 1, '爱': 2, '北京': 3, '天安门': 4, '中国': 5}\n"
     ]
    }
   ],
   "source": [
    "from keras.preprocessing.text import Tokenizer\n",
    "text1 = ['我 爱 北京 天安门', '我 爱 中国']\n",
    "text2 = ['我 爱 塞北 的 雪 和 天安门']\n",
    "text3 = ['我', '爱','北京','天安门']\n",
    "tokenizer = Tokenizer()\n",
    "tokenizer.fit_on_texts(text1)\n",
    "# train_seqs = tokenizer.texts_to_sequences(text2)\n",
    "print(tokenizer.word_counts)\n",
    "print(tokenizer.word_index)"
   ]
  },
  {
   "cell_type": "code",
   "execution_count": 10,
   "metadata": {},
   "outputs": [
    {
     "name": "stdout",
     "output_type": "stream",
     "text": [
      "[[1, 2, 4]]\n"
     ]
    }
   ],
   "source": [
    "train_seqs = tokenizer.texts_to_sequences(text2)\n",
    "print(train_seqs)"
   ]
  },
  {
   "cell_type": "code",
   "execution_count": 15,
   "metadata": {},
   "outputs": [
    {
     "data": {
      "text/plain": [
       "[('c', 3)]"
      ]
     },
     "execution_count": 15,
     "metadata": {},
     "output_type": "execute_result"
    }
   ],
   "source": [
    "w = [('a',1),('b',2),('c',3)]\n",
    "ww = [item for item in w if item[1] > 2]\n",
    "ww"
   ]
  }
 ],
 "metadata": {
  "kernelspec": {
   "display_name": "Python 3",
   "language": "python",
   "name": "python3"
  },
  "language_info": {
   "codemirror_mode": {
    "name": "ipython",
    "version": 3
   },
   "file_extension": ".py",
   "mimetype": "text/x-python",
   "name": "python",
   "nbconvert_exporter": "python",
   "pygments_lexer": "ipython3",
   "version": "3.6.5"
  }
 },
 "nbformat": 4,
 "nbformat_minor": 2
}
