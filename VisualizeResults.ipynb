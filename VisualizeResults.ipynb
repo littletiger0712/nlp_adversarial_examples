{
 "cells": [
  {
   "cell_type": "code",
   "execution_count": 1,
   "metadata": {},
   "outputs": [
    {
     "name": "stderr",
     "output_type": "stream",
     "text": [
      "/home/malzantot/anaconda3/lib/python3.6/site-packages/h5py/__init__.py:36: FutureWarning: Conversion of the second argument of issubdtype from `float` to `np.floating` is deprecated. In future, it will be treated as `np.float64 == np.dtype(float).type`.\n",
      "  from ._conv import register_converters as _register_converters\n",
      "Using TensorFlow backend.\n"
     ]
    }
   ],
   "source": [
    "from data_utils import IMDBDataset\n",
    "import pickle\n",
    "import display_utils"
   ]
  },
  {
   "cell_type": "code",
   "execution_count": 4,
   "metadata": {
    "collapsed": true
   },
   "outputs": [],
   "source": [
    "with open('attack_results2.pkl', 'rb') as f:\n",
    "    (test_list, orig_list, label_list, adv_list, dist_list) = pickle.load( f)"
   ]
  },
  {
   "cell_type": "code",
   "execution_count": 5,
   "metadata": {
    "collapsed": true
   },
   "outputs": [],
   "source": [
    "VOCAB_SIZE  = 50000\n",
    "with open('aux_files/dataset_%d.pkl' %VOCAB_SIZE, 'rb') as f:\n",
    "    dataset = pickle.load(f)"
   ]
  },
  {
   "cell_type": "code",
   "execution_count": 12,
   "metadata": {},
   "outputs": [
    {
     "name": "stdout",
     "output_type": "stream",
     "text": [
      "RAW TEXT: \n"
     ]
    },
    {
     "data": {
      "text/html": [
       "as a reviewer has already commented, this made for tv comedy is up there amongst the best football parodies ever. but....having failed to video it when it was first aired, i now find that it isn't around in any format. ok, so this has only polled 17 votes to date, but a 9+ average does seem to suggest something special. basically, i suppose it's a case of tough luck if you missed it 'cos it's no longer available to view !! aaaaaaaargh."
      ],
      "text/plain": [
       "<IPython.core.display.HTML object>"
      ]
     },
     "metadata": {},
     "output_type": "display_data"
    },
    {
     "name": "stdout",
     "output_type": "stream",
     "text": [
      "--------------------\n",
      "Original Prediction = Positive.  \n"
     ]
    },
    {
     "data": {
      "text/html": [
       "as a reviewer has already commented this made for tv <b style='color:green'>comedy</b> is up there amongst the best football parodies ever but having failed to <b style='color:green'>video</b> it when it was first aired i now find that it isn't around in any format ok so this has only burge 17 votes to date but a 9 average does seem to suggest something special basically i suppose it's a case of tough <b style='color:green'>luck</b> if you missed it 'cos it's no longer available to view"
      ],
      "text/plain": [
       "<IPython.core.display.HTML object>"
      ]
     },
     "metadata": {},
     "output_type": "display_data"
    },
    {
     "name": "stdout",
     "output_type": "stream",
     "text": [
      "---------  After attack -------------\n",
      "New Prediction = Negative.\n"
     ]
    },
    {
     "data": {
      "text/html": [
       "as a reviewer has already commented this made for tv <b style='color:red'>farce</b> is up there amongst the best football parodies ever but having failed to <b style='color:red'>videotaping</b> it when it was first aired i now find that it isn't around in any format ok so this has only burge 17 votes to date but a 9 average does seem to suggest something special basically i suppose it's a case of tough <b style='color:red'>chances</b> if you missed it 'cos it's no longer available to view"
      ],
      "text/plain": [
       "<IPython.core.display.HTML object>"
      ]
     },
     "metadata": {},
     "output_type": "display_data"
    }
   ],
   "source": [
    "idx = 9\n",
    "if adv_list[idx] is None:\n",
    "    print('Failed')\n",
    "else:\n",
    "    display_utils.visualize_attack2(dataset, test_list[idx], orig_list[idx], adv_list[idx], label_list[idx])"
   ]
  }
 ],
 "metadata": {
  "kernelspec": {
   "display_name": "Python 3",
   "language": "python",
   "name": "python3"
  },
  "language_info": {
   "codemirror_mode": {
    "name": "ipython",
    "version": 3
   },
   "file_extension": ".py",
   "mimetype": "text/x-python",
   "name": "python",
   "nbconvert_exporter": "python",
   "pygments_lexer": "ipython3",
   "version": "3.6.1"
  }
 },
 "nbformat": 4,
 "nbformat_minor": 2
}
